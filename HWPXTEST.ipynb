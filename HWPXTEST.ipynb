{
 "cells": [
  {
   "cell_type": "code",
   "execution_count": 1,
   "metadata": {},
   "outputs": [],
   "source": [
    "from pyhwpx import Hwp\n",
    "\n",
    "hwp = Hwp(new=True)\n",
    "#hwp2 = Hwp(new=True)"
   ]
  },
  {
   "cell_type": "code",
   "execution_count": null,
   "metadata": {},
   "outputs": [],
   "source": [
    "hwp.clipboard_to_pyfunc()"
   ]
  },
  {
   "cell_type": "code",
   "execution_count": 2,
   "metadata": {},
   "outputs": [
    {
     "data": {
      "text/plain": [
       "True"
      ]
     },
     "execution_count": 2,
     "metadata": {},
     "output_type": "execute_result"
    }
   ],
   "source": [
    "hwp.FileOpen()\n"
   ]
  },
  {
   "cell_type": "code",
   "execution_count": 119,
   "metadata": {},
   "outputs": [
    {
     "data": {
      "text/plain": [
       "True"
      ]
     },
     "execution_count": 119,
     "metadata": {},
     "output_type": "execute_result"
    }
   ],
   "source": [
    "hwp.MoveDocBegin()"
   ]
  },
  {
   "cell_type": "code",
   "execution_count": 122,
   "metadata": {},
   "outputs": [
    {
     "name": "stdout",
     "output_type": "stream",
     "text": [
      "(0, 54, 8)\n",
      "(0, 99, 0)\n",
      "(0, 584, 2)\n",
      "(0, 908, 0)\n"
     ]
    }
   ],
   "source": [
    "문단시작_list =[]\n",
    "for i in hwp.ctrl_list:\n",
    "        #print(i.UserDesc)\n",
    "        if i.UserDesc == \"새 번호\":#컨트롤이 표일 경우\n",
    "            문단시작_list.append(i)#리스트에 저장\n",
    "for i in range(len(문단시작_list)):\n",
    "    hwp.move_to_ctrl(문단시작_list[i])\n",
    "    hwp.MoveLeft()\n",
    "    ###여기에 위치 추가 함수###\n",
    "    \n"
   ]
  },
  {
   "cell_type": "code",
   "execution_count": 20,
   "metadata": {},
   "outputs": [
    {
     "data": {
      "text/plain": [
       "True"
      ]
     },
     "execution_count": 20,
     "metadata": {},
     "output_type": "execute_result"
    }
   ],
   "source": [
    "hwp.find_forward(\"나. 현장 특성 분석\")"
   ]
  },
  {
   "cell_type": "code",
   "execution_count": null,
   "metadata": {},
   "outputs": [
    {
     "name": "stdout",
     "output_type": "stream",
     "text": [
      "(0, 95, 2)\n"
     ]
    }
   ],
   "source": [
    "hwp.MoveLeft()\n",
    "hwp.MoveRight()\n",
    "\n"
   ]
  },
  {
   "cell_type": "code",
   "execution_count": 98,
   "metadata": {},
   "outputs": [
    {
     "data": {
      "text/plain": [
       "True"
      ]
     },
     "execution_count": 98,
     "metadata": {},
     "output_type": "execute_result"
    }
   ],
   "source": [
    "hwp.MoveDocEnd()"
   ]
  },
  {
   "cell_type": "code",
   "execution_count": 99,
   "metadata": {},
   "outputs": [
    {
     "name": "stdout",
     "output_type": "stream",
     "text": [
      "(0, 1067, 25)\n"
     ]
    }
   ],
   "source": [
    "print(hwp.GetPos())"
   ]
  },
  {
   "cell_type": "code",
   "execution_count": 12,
   "metadata": {},
   "outputs": [
    {
     "data": {
      "text/plain": [
       "True"
      ]
     },
     "execution_count": 12,
     "metadata": {},
     "output_type": "execute_result"
    }
   ],
   "source": [
    "#복붙이 되는지 확인\n",
    "hwp.Open(r\"C:\\Users\\codek\\Documents\\GitHub\\connwnw\\test\\샘플_원본.hwp\")\n",
    "#hwp2.Open(r\"C:\\Users\\codek\\Documents\\GitHub\\connwnw\\test\\샘플_템플릿.hwp\")"
   ]
  },
  {
   "cell_type": "code",
   "execution_count": 3,
   "metadata": {},
   "outputs": [
    {
     "data": {
      "text/plain": [
       "True"
      ]
     },
     "execution_count": 3,
     "metadata": {},
     "output_type": "execute_result"
    }
   ],
   "source": [
    "hwp.MoveDocBegin()"
   ]
  },
  {
   "cell_type": "code",
   "execution_count": 4,
   "metadata": {},
   "outputs": [
    {
     "data": {
      "text/plain": [
       "(0, 12, 0)"
      ]
     },
     "execution_count": 4,
     "metadata": {},
     "output_type": "execute_result"
    }
   ],
   "source": [
    "hwp.GetPos()"
   ]
  },
  {
   "cell_type": "code",
   "execution_count": 116,
   "metadata": {},
   "outputs": [
    {
     "data": {
      "text/plain": [
       "(101, '')"
      ]
     },
     "execution_count": 116,
     "metadata": {},
     "output_type": "execute_result"
    }
   ],
   "source": [
    "#스캔 기능 유용할것 같은데 알아보기\n",
    "hwp.init_scan()\n",
    "hwp.get_text()\n",
    "hwp.release_scan()"
   ]
  },
  {
   "cell_type": "code",
   "execution_count": 121,
   "metadata": {},
   "outputs": [
    {
     "name": "stdout",
     "output_type": "stream",
     "text": [
      "[(0, 0, 16), (0, 7, 0), (0, 10, 0)] ['1. 샘플1', '2. 샘플2', '3. 샘플3']\n"
     ]
    }
   ],
   "source": [
    "cursor_positions = []  # 문단 앞 커서 위치를 담는 리스트\n",
    "section_titles = []    # 각 위치에 대응하는 목차 또는 섹션 이름 **목차명=필드명이되도록할것\n",
    "\n",
    "#캐럿 포지션 저장\n",
    "def 커서_위치추가():\n",
    "    #목차 문단 맨 앞의 위치 추가\n",
    "    cursor_positions.append(hwp.GetPos())\n",
    "\n",
    "    #목차 문단 셀선택 후 추가하고 다시 첫 위치로 돌아가기\n",
    "    hwp.MoveSelParaEnd()\n",
    "    section_titles.append(hwp.get_selected_text())\n",
    "    hwp.MoveParaBegin()\n",
    "커서_위치추가()\n",
    "print(cursor_positions, section_titles)\n",
    "\n",
    "######"
   ]
  },
  {
   "cell_type": "code",
   "execution_count": 124,
   "metadata": {},
   "outputs": [
    {
     "name": "stdout",
     "output_type": "stream",
     "text": [
      "[(0, 0, 16), (0, 7, 0), (0, 10, 0), (0, 12, 0)] ['1. 샘플1', '2. 샘플2', '3. 샘플3', '문서 끝']\n"
     ]
    }
   ],
   "source": [
    "#마지막 지점 추가하기\n",
    "def 커서_마지막지점추가():\n",
    "    hwp.MoveDocEnd()\n",
    "    cursor_positions.append(hwp.GetPos())\n",
    "    section_titles.append(\"문서 끝\")\n",
    "커서_마지막지점추가()\n",
    "print(cursor_positions, section_titles)"
   ]
  },
  {
   "cell_type": "code",
   "execution_count": 123,
   "metadata": {},
   "outputs": [
    {
     "name": "stdout",
     "output_type": "stream",
     "text": [
      "[(0, 0, 16), (0, 7, 0), (0, 10, 0)] ['1. 샘플1', '2. 샘플2', '3. 샘플3']\n"
     ]
    }
   ],
   "source": [
    "print(cursor_positions, section_titles)"
   ]
  },
  {
   "cell_type": "code",
   "execution_count": 14,
   "metadata": {},
   "outputs": [
    {
     "data": {
      "text/plain": [
       "'C:\\\\Users\\\\codek\\\\Documents\\\\GitHub\\\\connwnw\\\\test\\\\샘플_원본.hwp'"
      ]
     },
     "execution_count": 14,
     "metadata": {},
     "output_type": "execute_result"
    }
   ],
   "source": [
    "#파일경로 추출\n",
    "hwp.Path\n"
   ]
  },
  {
   "cell_type": "code",
   "execution_count": 15,
   "metadata": {},
   "outputs": [
    {
     "name": "stdout",
     "output_type": "stream",
     "text": [
      "샘플_원본.hwp\n"
     ]
    }
   ],
   "source": [
    "import os\n",
    "\n",
    "#파일이름 추출\n",
    "\n",
    "file_path = 'C:\\\\Users\\\\codek\\\\Documents\\\\GitHub\\\\connwnw\\\\test\\\\샘플_원본.hwp'\n",
    "file_name = os.path.basename(file_path)\n",
    "\n",
    "print(file_name)  # 출력: 샘플_원본.hwp\n"
   ]
  },
  {
   "cell_type": "code",
   "execution_count": 20,
   "metadata": {},
   "outputs": [],
   "source": [
    "#추출하면 좋을만한 것들\n",
    "\n",
    "###--문서 info--###\n",
    "#파일이름\n",
    "#현장명\n",
    "#현장소재지\n",
    "#공사금액\n",
    "#보고서 날짜(년)\n",
    "#보고서 날짜(월)\n",
    "#시공자\n",
    "#설계자\n",
    "#공사개요-대상공사\n",
    "#공사개요-구조\n",
    "#공사개요-개소\n",
    "#공사개요-층수지하\n",
    "#공사개요-층수지상\n",
    "#공사개요-굴착깊이\n",
    "#공사개요-최고높이\n",
    "#공사개요-연면적\n",
    "#기타특수구조물개요\n",
    "#주요공법1\n",
    "#주요공법2\n",
    "#주요공법3\n",
    "#주요공법4\n",
    "#주요공법5\n",
    "#주요공법6\n",
    "#주요공법7\n",
    "#주요공법8\n",
    "#주요공법9\n",
    "#주요공법10\n",
    "\n",
    "###--문서 및 내용 위치--###\n",
    "#파일경로\n",
    "#섹션명(=필드명)\n",
    "#list\n",
    "#para\n",
    "#pos\n"
   ]
  },
  {
   "cell_type": "code",
   "execution_count": 5,
   "metadata": {},
   "outputs": [],
   "source": [
    "#입력할 데이터를 db에서 꺼내옴(미구현)\n",
    "custom_data = [\n",
    "    ((0, 0, 16), \"샘플1내용\"),\n",
    "    ((0, 7, 0), \"샘플2내용\"),\n",
    "    ((0, 10, 0), \"샘플3내용\"),\n",
    "    ((0, 12, 0), \"문서끝\")\n",
    "]\n",
    "\n",
    "#내용 삽입 함수\n",
    "def 복붙_내용삽입(custom_data):\n",
    "    for i in range(len(custom_data) - 1):\n",
    "        current_pos, current_title = custom_data[i]\n",
    "        next_pos, _ = custom_data[i + 1]\n",
    "\n",
    "        hwp.SetPos(*current_pos)  # 현재 위치로 이동\n",
    "        hwp.MoveNextParaBegin()\n",
    "        hwp.Select()\n",
    "        hwp.SetPos(*next_pos)  # 다음 위치로 이동\n",
    "        hwp.Copy()  # 복사\n",
    "\n",
    "        hwp2.MoveToField(current_title)  # 해당 필드로 이동\n",
    "        hwp2.Paste()  # 붙여넣기\n",
    "\n",
    "복붙_내용삽입(custom_data)\n"
   ]
  },
  {
   "cell_type": "code",
   "execution_count": null,
   "metadata": {},
   "outputs": [],
   "source": []
  }
 ],
 "metadata": {
  "kernelspec": {
   "display_name": "Python 3",
   "language": "python",
   "name": "python3"
  },
  "language_info": {
   "codemirror_mode": {
    "name": "ipython",
    "version": 3
   },
   "file_extension": ".py",
   "mimetype": "text/x-python",
   "name": "python",
   "nbconvert_exporter": "python",
   "pygments_lexer": "ipython3",
   "version": "3.11.5"
  }
 },
 "nbformat": 4,
 "nbformat_minor": 2
}
