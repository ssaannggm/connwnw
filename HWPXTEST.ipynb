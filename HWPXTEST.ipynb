{
 "cells": [
  {
   "cell_type": "code",
   "execution_count": 1,
   "metadata": {},
   "outputs": [],
   "source": [
    "from pyhwpx import Hwp\n",
    "\n",
    "hwp = Hwp()\n",
    "#hwp2 = Hwp(new=True)"
   ]
  },
  {
   "cell_type": "code",
   "execution_count": 4,
   "metadata": {},
   "outputs": [],
   "source": [
    "#안전계획서 초안 작성\n",
    "#plan1))) 1-1,2-1~4 까지 각 영역 별 db테이블에 데이터화 \n",
    "#        -> 데이터에서 가져와서 복붙하기 \n",
    "#         (양식이 애매하게 다른게 꽤 있는것이 문제임. // 각 영영별 뽑아서 정리해야 할 자료 뽑기)\n",
    "#\n",
    "# plan2))) 자주 쓰이는 것을 하나의 파일에 보관 : 해당 파일의 원하는 위치를 미리 저장해뒀다가 템플릿에 붙혀넣어주기 \n",
    "#         (1번이 기능이 완벽하다면, 자주쓰이는 것을 파일에 정리하고 db에 입력해도 됨)\n",
    "\n",
    "\n",
    "# 안전계획서 -> 유해로 바꾸기\n",
    "#plan1))) 자료 합치기(원본) -> 섹션명 추출(표, 띄어쓰기 등 삭제 후 스캔) \n",
    "#         -> 원본에서 섹션명으로 포지션추출 -> 유해 템플릿(안전계획서 섹션명 필드 존재)에 삽입\n",
    "#\n",
    "#paan2))) 자료 합치기 -> 섹션이름을 유해에 맞게 바꾸고 문단 순서 재배치 / 필요없는거 삭제\n",
    "\n",
    "# 유해 -> ppt로 출력\n",
    "#plan1))) 유해 통짜 파일에서 섹션명 추출(표, 띄어쓰기 등 삭제 후 스캔) \n",
    "#        -> 원하는 섹션명 선택(DB는 저장안하던지 선택할때 보이게 임시로만 사용) -> ppt로 복붙\n",
    "#########################################################################################\n",
    "# 1. 안전관리 계획서에서 다른 양식으로 변환(유해1번, 철도, 협의 라던지..기타 등등 있음)\n",
    "# (바뀌는 파트 / 고정된 파트 가 정해져 있음)\n",
    "\n",
    "# 2. pdf 취합 : pdf 병합 - '후면첨부' 내용(pdf)을 다음 페이지에 삽입\n",
    "\n",
    "# 3. 보완 정리하기 : 문제은행 식 .. 예전꺼 복붙하고 현장명 등 공통 내용만 수정해서 초안 제작\n",
    "\n",
    "# ...\n",
    "\n",
    "# 마지막. db로 만들기\n",
    "list = [\n",
    "     r\"C:\\Users\\user\\Desktop\\02. 안전관리계획서(R2)-20250125T110710Z-001\\02. 안전관리계획서(R2)\\구의한양\\01. [변경] 안전관리계획서 제1편 -구의한양연립 가로주택정비사업 신축공사(R2).hwp\",\n",
    "     r\"C:\\Users\\user\\Desktop\\02. 안전관리계획서(R2)-20250125T110710Z-001\\02. 안전관리계획서(R2)\\구의한양\\02. [변경] 안전관리계획서 제2편 - 1. 가설 - 구의한양연립 가로주택정비사업 신축공사(R2).hwp\",\n",
    "     \n",
    " ]\n",
    "for i in list:\n",
    "    hwp.insert(i, format=\"HWP\",move_doc_end=True)"
   ]
  },
  {
   "cell_type": "code",
   "execution_count": null,
   "metadata": {},
   "outputs": [],
   "source": [
    "# 문서 병합\n",
    "안전계획서_리스트=[]\n",
    "def 안전계획서_리스트업():\n",
    "    \"\"\"파일 5개 주소 받아오기\"\"\"\n",
    "    for i in range(5):\n",
    "        #경로 받기 ui+ os 로\n",
    "        안전계획서_리스트.append(i)###todo \n",
    "def 안전계획서_문서병합():\n",
    "    for i in 안전계획서_리스트:\n",
    "        hwp.insert(i, format=\"HWP\",move_doc_end=True)\n",
    "\n"
   ]
  },
  {
   "cell_type": "code",
   "execution_count": 12,
   "metadata": {},
   "outputs": [
    {
     "data": {
      "text/plain": [
       "True"
      ]
     },
     "execution_count": 12,
     "metadata": {},
     "output_type": "execute_result"
    }
   ],
   "source": [
    "from pyhwpx import Hwp\n",
    "hwp11 = Hwp()\n",
    "hwp11.FileOpen()\n"
   ]
  },
  {
   "cell_type": "code",
   "execution_count": 23,
   "metadata": {},
   "outputs": [],
   "source": [
    "hwp11.MoveSelRight()\n",
    "selected_text = hwp11.get_selected_text()\n"
   ]
  },
  {
   "cell_type": "code",
   "execution_count": 24,
   "metadata": {},
   "outputs": [
    {
     "name": "stdout",
     "output_type": "stream",
     "text": [
      "['4']\n"
     ]
    }
   ],
   "source": [
    "\n",
    "print(selected_text)"
   ]
  },
  {
   "cell_type": "code",
   "execution_count": 26,
   "metadata": {},
   "outputs": [],
   "source": [
    "for ctrl in (hwp11.ctrl_list):\n",
    "    if ctrl.UserDesc == \"사각형\":  # 컨트롤이 표일 경우\n",
    "        hwp11.delete_ctrl(ctrl)  # 바로 삭제"
   ]
  },
  {
   "cell_type": "code",
   "execution_count": 8,
   "metadata": {},
   "outputs": [],
   "source": [
    "hwp21 = Hwp(new=True)"
   ]
  },
  {
   "cell_type": "code",
   "execution_count": 2,
   "metadata": {},
   "outputs": [
    {
     "data": {
      "text/plain": [
       "True"
      ]
     },
     "execution_count": 2,
     "metadata": {},
     "output_type": "execute_result"
    }
   ],
   "source": [
    "# 섹션 시작 위치로 이동\n",
    "hwp11.SetPos(0, 6, 1)  \n"
   ]
  },
  {
   "cell_type": "code",
   "execution_count": null,
   "metadata": {},
   "outputs": [],
   "source": []
  },
  {
   "cell_type": "code",
   "execution_count": 3,
   "metadata": {},
   "outputs": [
    {
     "data": {
      "text/plain": [
       "True"
      ]
     },
     "execution_count": 3,
     "metadata": {},
     "output_type": "execute_result"
    }
   ],
   "source": [
    "hwp11.MoveNextParaBegin()  # 다음 단락으로 이동\n"
   ]
  },
  {
   "cell_type": "code",
   "execution_count": 4,
   "metadata": {},
   "outputs": [
    {
     "data": {
      "text/plain": [
       "True"
      ]
     },
     "execution_count": 4,
     "metadata": {},
     "output_type": "execute_result"
    }
   ],
   "source": [
    "hwp11.Select()  # 섹션 시작 위치에서 선택 시작\n",
    "# 섹션 끝 위치로 이동\n"
   ]
  },
  {
   "cell_type": "code",
   "execution_count": 5,
   "metadata": {},
   "outputs": [
    {
     "data": {
      "text/plain": [
       "True"
      ]
     },
     "execution_count": 5,
     "metadata": {},
     "output_type": "execute_result"
    }
   ],
   "source": [
    "hwp11.SetPos(0, 8, 1)\n",
    "\n"
   ]
  },
  {
   "cell_type": "code",
   "execution_count": 6,
   "metadata": {},
   "outputs": [
    {
     "data": {
      "text/plain": [
       "True"
      ]
     },
     "execution_count": 6,
     "metadata": {},
     "output_type": "execute_result"
    }
   ],
   "source": [
    "hwp11.MoveLeft()"
   ]
  },
  {
   "cell_type": "code",
   "execution_count": 7,
   "metadata": {},
   "outputs": [],
   "source": [
    "data = hwp11.GetTextFile(\"HWP\",\"saveblock\")\n"
   ]
  },
  {
   "cell_type": "code",
   "execution_count": 12,
   "metadata": {},
   "outputs": [
    {
     "name": "stdout",
     "output_type": "stream",
     "text": [
      "True\n"
     ]
    }
   ],
   "source": [
    "print(hwp21.move_to_field(\"필드2\"))\n"
   ]
  },
  {
   "cell_type": "code",
   "execution_count": 9,
   "metadata": {},
   "outputs": [
    {
     "data": {
      "text/plain": [
       "1"
      ]
     },
     "execution_count": 9,
     "metadata": {},
     "output_type": "execute_result"
    }
   ],
   "source": [
    "hwp21.SetTextFile(data,\"HWP\")\n"
   ]
  },
  {
   "cell_type": "code",
   "execution_count": 50,
   "metadata": {},
   "outputs": [
    {
     "name": "stdout",
     "output_type": "stream",
     "text": [
      "True\n"
     ]
    }
   ],
   "source": [
    "print(hwp20.Paste())"
   ]
  },
  {
   "cell_type": "code",
   "execution_count": null,
   "metadata": {},
   "outputs": [],
   "source": [
    "import fitz  # pymupdf\n",
    "import os\n",
    "import re  # 정규표현식 사용\n",
    "\n",
    "# === 파일 경로 설정 ===\n",
    "main_pdf_path = r\"C:\\Users\\user\\Desktop\\02. 안전관리계획서(R2)-20250125T110710Z-001\\02. 안전관리계획서(R2)\\성남 금토지구\\01. [변경] 안전관리계획서 제1편 - 성남 금토지구 A-3블록 공동주택 신축공사(R1).pdf\"  # 메인 PDF\n",
    "sub_pdf_dir = r\"C:\\Users\\user\\Desktop\\02. 안전관리계획서(R2)-20250125T110710Z-001\\02. 안전관리계획서(R2)\\성남 금토지구\\pdf\"    # 서브 PDF가 저장된 폴더\n",
    "output_pdf_path = \"output.pdf\"  # 최종 결과물\n",
    "\n",
    "# 메인 PDF 열기\n",
    "main_doc = fitz.open(main_pdf_path)\n",
    "\n",
    "# 서브 PDF 폴더 내 파일 목록 가져오기 (확장자 제외)\n",
    "sub_pdfs = {f.split(\".pdf\")[0]: os.path.join(sub_pdf_dir, f) for f in os.listdir(sub_pdf_dir) if f.endswith(\".pdf\")}\n",
    "\n",
    "# 앞에 붙은 숫자 제거하고 출력\n",
    "sub_pdfs = [re.sub(r\"^\\d+[-\\d]*\\.\\s*\", \"\", i) for i in sub_pdfs]\n",
    "\n",
    "# 검색할 키워드\n",
    "search_text = \"후면 첨부참조\"\n",
    "\n",
    "# === PDF 내에서 검색하고 서브 PDF 삽입 ===\n",
    "insertions = []\n",
    "\n",
    "for page_num in range(len(main_doc)):\n",
    "    text = main_doc[page_num].get_text(\"text\")  # 현재 페이지의 텍스트 추출\n",
    "    lines = text.split(\"\\n\")  # 줄 단위로 나누기\n",
    "    \n",
    "    for line in lines:\n",
    "        if search_text in line:  # \"후면 첨부참조\"가 포함된 줄 찾기\n",
    "            matched_keyword = line.split(search_text)[0]  # \"후면 첨부참조\" 앞부분만 추출\n",
    "            matched_keyword = re.sub(r\"[^\\w\\s]\", \"\", matched_keyword).strip()  # 특수문자 제거\n",
    "            print(f\"키워드 매칭: {matched_keyword}\")  # 디버깅용 출력\n",
    "            \n",
    "            # 서브 PDF 파일명 중 일부와 매칭되는 파일 찾기\n",
    "            best_match = None\n",
    "            for sub_pdf_name in sub_pdfs:\n",
    "                if matched_keyword in sub_pdf_name or any(word in sub_pdf_name for word in matched_keyword.split()):\n",
    "                    best_match = sub_pdf_name  # 경로가 아니라 파일명(키)을 저장\n",
    "                    break  # 가장 먼저 매칭되는 파일 선택\n",
    "\n",
    "            # 매칭된 PDF가 있다면 삽입 대기\n",
    "            if best_match:\n",
    "                sub_doc = fitz.open(sub_pdfs[best_match])  # 서브 PDF 열기\n",
    "                insertions.append((page_num + 1, sub_doc))  # 해당 페이지의 다음 페이지에 삽입\n",
    "                print(f\"🔹 {matched_keyword} → {sub_pdfs[best_match]} 삽입 예정\")\n",
    "            break  # \"후면 첨부참조\"가 포함된 줄을 찾았으므로 루프 종료\n"
   ]
  },
  {
   "cell_type": "code",
   "execution_count": 4,
   "metadata": {},
   "outputs": [
    {
     "name": "stdout",
     "output_type": "stream",
     "text": [
      "서브 PDF 목록: ['성남금토A3-예정공정표(34개월)', '대피', 'project(성남 금토지구 A-3블록 공동주택 신축공사 시스템비계)-revision0', '시스템비계-d', '비상복구장비', '달비계', '낙하물방지망 도면-d', '건설용리프트', '25TON 이동식크레인 작업계획', '100TON 이동식크레인 작업계획', '70TON 이동식크레인 작업계획', '천공기 작업계획도[가설공사]', '[토목] 지반조서보고서', '가설', '굴착', '가설배수', '흙막이설계보고서 - 수정', '천공기 작업계획[굴착공사]', '숏크리트 작업계획', '흙막이가시설 시공순서도', '계측계획도', '암발파계획도', '발파작업계획', '되메우기 작업계획', '지하매설물도', '매설물 협의서', 'project(성남 금토지구 A-3블록 공동주택 신축공사 시스템동바리)-revision0', '시스템동바리 도면-d', 'project(성남 금토지구 A-3블록 공동주택 신축공사 파이프서포트)-revision0', '파이프서포트 도면-d', 'project(성남 금토지구 A-3블록 공동주택 신축공사 보측압)-revision0', 'JH-G04 위험성평가 절차서 - 개정완료 2023.06_건설', '교통소통계획', '현장 내외부 신호수 배치계획', '안전모니터링 설치계획[CCTV]', '비상경보시설', '임시소방시설']\n",
      "키워드 매칭: 공사 예정공정표\n",
      "키워드 매칭: 공사용 가설물 배치 계획도\n",
      "키워드 매칭: 지하매설물도(평· 단면도)\n",
      "키워드 매칭: 지하매설물 관계기관 협의서\n",
      "키워드 매칭: 위험성 평가 절차서\n",
      "키워드 매칭: 공사차량 동선 계획(장비 진출입 경로)\n",
      "키워드 매칭: 현장 내·외부 장비 유도원 배치계획\n",
      "키워드 매칭: 안전 모니터링 장비 설치 계획\n",
      "키워드 매칭: 비상경보시설 설치 계획\n",
      "키워드 매칭: 임시소방시설 설치 계획\n",
      "키워드 매칭: 비상상황 발생시 대피계획 평·단면도\n",
      "키워드 매칭: 비상복구장비 및 자재비치계획\n"
     ]
    }
   ],
   "source": [
    "import fitz  # pymupdf\n",
    "import os\n",
    "import re  # 정규표현식 사용\n",
    "\n",
    "# === 파일 경로 설정 ===\n",
    "main_pdf_path = r\"C:\\Users\\user\\Desktop\\02. 안전관리계획서(R2)-20250125T110710Z-001\\02. 안전관리계획서(R2)\\성남 금토지구\\01. [변경] 안전관리계획서 제1편 - 성남 금토지구 A-3블록 공동주택 신축공사(R1).pdf\"\n",
    "sub_pdf_dir = r\"C:\\Users\\user\\Desktop\\02. 안전관리계획서(R2)-20250125T110710Z-001\\02. 안전관리계획서(R2)\\성남 금토지구\\pdf\"\n",
    "output_pdf_path = \"output.pdf\"  # 최종 결과물\n",
    "\n",
    "# === 서브 PDF 파일 목록 가져오기 ===\n",
    "# 파일 이름 리스트와 경로 리스트를 따로 저장\n",
    "sub_pdf_names = []  # PDF 파일 이름 (확장자 없는 형태)\n",
    "sub_pdf_paths = []  # PDF 파일의 실제 경로\n",
    "\n",
    "for filename in os.listdir(sub_pdf_dir):\n",
    "    if filename.endswith(\".pdf\"):\n",
    "        clean_name = re.sub(r\"^\\d+[-\\d]*\\.\\s*\", \"\", os.path.splitext(filename)[0])  # 앞 숫자 제거\n",
    "        sub_pdf_names.append(clean_name)  # 파일 이름 저장\n",
    "        sub_pdf_paths.append(os.path.join(sub_pdf_dir, filename))  # 파일 경로 저장\n",
    "\n",
    "# ✅ 디버깅: 서브 PDF 목록 출력\n",
    "print(\"서브 PDF 목록:\", sub_pdf_names)\n",
    "\n",
    "# === PDF 내에서 검색하고 서브 PDF 삽입 ===\n",
    "search_text = \"후면 첨부참조\"\n",
    "insertions = []\n",
    "\n",
    "# 메인 PDF 열기\n",
    "main_doc = fitz.open(main_pdf_path)\n",
    "\n",
    "for page_num in range(len(main_doc)):\n",
    "    text = main_doc[page_num].get_text(\"text\")  # 현재 페이지의 텍스트 추출\n",
    "    lines = text.split(\"\\n\")  # 줄 단위로 나누기\n",
    "    \n",
    "    for line in lines:\n",
    "        if search_text in line:  # \"후면 첨부참조\"가 포함된 줄 찾기\n",
    "            matched_keyword = line.split(search_text)[0]  # \"후면 첨부참조\" 앞부분만 추출\n",
    "            matched_keyword = re.sub(r\"[^\\w\\s()·]\", \"\", matched_keyword).strip()  # 특수문자 제거\n",
    "            print(f\"키워드 매칭: {matched_keyword}\")  # 디버깅용 출력\n",
    "\n",
    "            # 서브 PDF 파일명 중 일부와 매칭되는 파일 찾기\n",
    "            best_match_index = None\n",
    "            for i, sub_pdf_name in enumerate(sub_pdf_names):\n",
    "                if matched_keyword in sub_pdf_name or any(word in sub_pdf_name for word in matched_keyword.split()):\n",
    "                    best_match_index = i  # 매칭된 파일의 인덱스 저장\n",
    "                    break  # 가장 먼저 매칭되는 파일 선택\n",
    "\n",
    "            # 매칭된 PDF가 있다면 삽입 대기\n",
    "            if best_match_index is not None:\n",
    "                best_match_path = sub_pdf_paths[best_match_index]  # 매칭된 PDF의 경로 가져오기\n",
    "                sub_doc = fitz.open(best_match_path)  # 서브 PDF 열기\n",
    "                insertions.append((page_num + 1, sub_doc))  # 해당 페이지의 다음 페이지에 삽입\n",
    "                print(f\"🔹 {matched_keyword} → {best_match_path} 삽입 예정\")\n",
    "            break  # \"후면 첨부참조\"가 포함된 줄을 찾았으므로 루프 종료\n",
    "\n",
    "\n",
    "# === 서브 PDF 삽입 ===\n",
    "for insert_page, sub_doc in sorted(insertions, reverse=True):\n",
    "    main_doc.insert_pdf(sub_doc, start_at=insert_page)  # 서브 PDF 삽입\n",
    "    sub_doc.close()  # 사용이 끝난 서브 PDF 닫기\n",
    "\n",
    "# 최종 결과 저장\n",
    "main_doc.save(output_pdf_path)  # 결과물을 새로운 PDF 파일로 저장\n",
    "main_doc.close()  # 메인 PDF 닫기\n",
    "print(f\"처리 완료! 파일 저장: {output_pdf_path}\")  # 완료 메시지 출력\n"
   ]
  },
  {
   "cell_type": "code",
   "execution_count": 18,
   "metadata": {},
   "outputs": [
    {
     "name": "stdout",
     "output_type": "stream",
     "text": [
      "서브 PDF 목록: ['공사 예정공정표', '비상상황 발생시 대피계획 평·단면도', 'project(성남 금토지구 A-3블록 공동주택 신축공사 시스템비계)-revision0', '시스템비계-d', '비상복구장비 및 자재비치계획', '달비계', '낙하물방지망 도면-d', '건설용리프트', '25TON 이동식크레인 작업계획', '100TON 이동식크레인 작업계획', '70TON 이동식크레인 작업계획', '천공기 작업계획도[가설공사]', '[토목] 지반조서보고서', '공사용 가설물 배치 계획도', '굴착', '가설배수', '흙막이설계보고서 - 수정', '천공기 작업계획[굴착공사]', '숏크리트 작업계획', '흙막이가시설 시공순서도', '계측계획도', '암발파계획도', '발파작업계획', '되메우기 작업계획', '지하매설물도(평· 단면도)', '지하매설물 관계기관 협의서', 'project(성남 금토지구 A-3블록 공동주택 신축공사 시스템동바리)-revision0', '시스템동바리 도면-d', 'project(성남 금토지구 A-3블록 공동주택 신축공사 파이프서포트)-revision0', '파이프서포트 도면-d', 'project(성남 금토지구 A-3블록 공동주택 신축공사 보측압)-revision0', '위험성 평가 절차서', '공사차량 동선 계획(장비 진출입 경로)', '현장 내·외부 장비 유도원 배치계획', '안전 모니터링 장비 설치 계획', '비상경보시설 설치 계획', '임시소방시설 설치 계획']\n",
      "✅ 삽입 예정: 공사 예정공정표 → 공사 예정공정표\n",
      "✅ 삽입 예정: 공사용 가설물 배치 계획도 → 공사용 가설물 배치 계획도\n",
      "✅ 삽입 예정: 지하매설물도(평· 단면도) → 지하매설물도(평· 단면도)\n",
      "✅ 삽입 예정: 지하매설물 관계기관 협의서 → 지하매설물 관계기관 협의서\n",
      "✅ 삽입 예정: 위험성 평가 절차서 → 위험성 평가 절차서\n",
      "✅ 삽입 예정: 공사차량 동선 계획(장비 진출입 경로) → 공사차량 동선 계획(장비 진출입 경로)\n",
      "✅ 삽입 예정: 현장 내·외부 장비 유도원 배치계획 → 현장 내·외부 장비 유도원 배치계획\n",
      "✅ 삽입 예정: 안전 모니터링 장비 설치 계획 → 안전 모니터링 장비 설치 계획\n",
      "✅ 삽입 예정: 비상경보시설 설치 계획 → 비상경보시설 설치 계획\n",
      "✅ 삽입 예정: 임시소방시설 설치 계획 → 임시소방시설 설치 계획\n",
      "✅ 삽입 예정: 비상상황 발생시 대피계획 평·단면도 → 비상상황 발생시 대피계획 평·단면도\n",
      "✅ 삽입 예정: 비상복구장비 및 자재비치계획 → 비상복구장비 및 자재비치계획\n",
      "처리 완료! 파일 저장: output.pdf\n"
     ]
    }
   ],
   "source": [
    "import fitz  # pymupdf\n",
    "import os\n",
    "import re  # 정규표현식 사용\n",
    "\n",
    "# === 파일 경로 설정 ===\n",
    "main_pdf_path = r\"C:\\Users\\user\\Desktop\\02. 안전관리계획서(R2)-20250125T110710Z-001\\02. 안전관리계획서(R2)\\성남 금토지구\\01. [변경] 안전관리계획서 제1편 - 성남 금토지구 A-3블록 공동주택 신축공사(R1).pdf\"\n",
    "sub_pdf_dir = r\"C:\\Users\\user\\Desktop\\02. 안전관리계획서(R2)-20250125T110710Z-001\\02. 안전관리계획서(R2)\\성남 금토지구\\pdf\"\n",
    "output_pdf_path = \"output.pdf\"  # 최종 결과물\n",
    "\n",
    "# === 서브 PDF 파일 목록 가져오기 ===\n",
    "sub_pdf_names = []  # PDF 파일 이름 (확장자 없는 형태)\n",
    "sub_pdf_paths = []  # PDF 파일의 실제 경로\n",
    "\n",
    "for filename in os.listdir(sub_pdf_dir):\n",
    "    if filename.endswith(\".pdf\"):\n",
    "        clean_name = re.sub(r\"^\\d+[-\\d]*\\.\\s*\", \"\", os.path.splitext(filename)[0])  # 앞 숫자 제거\n",
    "        sub_pdf_names.append(clean_name)  # 파일 이름 저장\n",
    "        sub_pdf_paths.append(os.path.join(sub_pdf_dir, filename))  # 파일 경로 저장\n",
    "\n",
    "# ✅ 디버깅: 서브 PDF 목록 출력\n",
    "print(\"서브 PDF 목록:\", sub_pdf_names)\n",
    "\n",
    "# === PDF 내에서 검색하고 서브 PDF 삽입 ===\n",
    "search_text = \"후면 첨부참조\"\n",
    "insertions = []\n",
    "\n",
    "# 메인 PDF 열기\n",
    "main_doc = fitz.open(main_pdf_path)\n",
    "\n",
    "for page_num in range(len(main_doc)):\n",
    "    text = main_doc[page_num].get_text(\"text\")  # 현재 페이지의 텍스트 추출\n",
    "    lines = text.split(\"\\n\")  # 줄 단위로 나누기\n",
    "    \n",
    "    for line in lines:\n",
    "        if search_text in line:  # \"후면 첨부참조\"가 포함된 줄 찾기\n",
    "            matched_keyword = line.split(search_text)[0]  # \"후면 첨부참조\" 앞부분만 추출\n",
    "            matched_keyword = re.sub(r\"[^\\w\\s()·]\", \"\", matched_keyword).strip()  # 특수문자 제거\n",
    "            #print(f\"찾은 키워드: {matched_keyword}\")  # 디버깅용 출력\n",
    "\n",
    "\n",
    "            # 서브 PDF 파일명 중에서 완전 일치하는 파일 찾기\n",
    "            best_match_index = None\n",
    "\n",
    "            for i, sub_pdf_name in enumerate(sub_pdf_names):\n",
    "                clean_sub_pdf_name = re.sub(r\"^\\d+[-\\d]*\\.\\s*\", \"\", sub_pdf_name)  # 앞 숫자 제거\n",
    "                if matched_keyword == clean_sub_pdf_name:  # 🔹 완전 일치하는 경우만 선택\n",
    "                    best_match_index = i\n",
    "                    break  # 첫 번째 완전 일치 항목을 선택하고 루프 종료\n",
    "                \n",
    "            # 매칭된 PDF가 있다면 삽입 대기\n",
    "            if best_match_index is not None:\n",
    "                best_match_name = sub_pdf_names[best_match_index]  # 매칭된 PDF 파일명 가져오기\n",
    "                sub_doc = fitz.open(sub_pdf_paths[best_match_index])  # 서브 PDF 열기\n",
    "                insertions.append((page_num + 1, sub_doc))  # 해당 페이지의 다음 페이지에 삽입\n",
    "                print(f\"✅ 삽입 예정: {matched_keyword} → {best_match_name}\")\n",
    "            else:\n",
    "                print(f\"⚠ '{matched_keyword}'에 완전 일치하는 PDF 파일 없음.\")\n",
    "\n",
    "            break  # \"후면 첨부참조\"가 포함된 줄을 찾았으므로 루프 종료\n",
    "\n",
    "# === 서브 PDF 삽입 ===\n",
    "for insert_page, sub_doc in sorted(insertions, reverse=True):\n",
    "    main_doc.insert_pdf(sub_doc, start_at=insert_page)  # 서브 PDF 삽입\n",
    "    sub_doc.close()  # 사용이 끝난 서브 PDF 닫기\n",
    "\n",
    "# 최종 결과 저장\n",
    "main_doc.save(output_pdf_path)  # 결과물을 새로운 PDF 파일로 저장\n",
    "main_doc.close()  # 메인 PDF 닫기\n",
    "print(f\"처리 완료! 파일 저장: {output_pdf_path}\")  # 완료 메시지 출력\n"
   ]
  }
 ],
 "metadata": {
  "kernelspec": {
   "display_name": "Python 3",
   "language": "python",
   "name": "python3"
  },
  "language_info": {
   "codemirror_mode": {
    "name": "ipython",
    "version": 3
   },
   "file_extension": ".py",
   "mimetype": "text/x-python",
   "name": "python",
   "nbconvert_exporter": "python",
   "pygments_lexer": "ipython3",
   "version": "3.11.5"
  }
 },
 "nbformat": 4,
 "nbformat_minor": 2
}
